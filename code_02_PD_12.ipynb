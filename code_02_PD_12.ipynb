{
 "cells": [
  {
   "cell_type": "code",
   "execution_count": 1,
   "metadata": {},
   "outputs": [],
   "source": [
    "# importando bibliotecas\n",
    "import pandas as pd\n",
    "import numpy as np\n",
    "\n",
    "import matplotlib.pyplot as plt\n",
    "import seaborn as sns\n",
    "\n",
    "from sklearn import datasets, linear_model\n",
    "from sklearn.linear_model import LinearRegression\n",
    "from sklearn.metrics import roc_auc_score\n",
    "\n",
    "import scorecardpy as sc\n",
    "\n",
    "\n",
    "import statsmodels.api as sm\n",
    "from scipy import stats\n",
    "%matplotlib inline\n",
    "\n",
    "pd.options.display.float_format = '{:.4f}'.format\n",
    "\n",
    "# pd.options.display.max_columns = None"
   ]
  },
  {
   "cell_type": "code",
   "execution_count": 2,
   "metadata": {},
   "outputs": [],
   "source": [
    "# Arquivo - original - CSV\n",
    "fonte = 'C:\\\\Users\\\\diego\\OneDrive\\\\Documentos_OneDrive\\\\Credit_Risk_Modelling\\\\chap2oneypd.csv'\n",
    "data_set = pd.read_csv(fonte, sep = ';', header=0, encoding= 'utf-8')"
   ]
  },
  {
   "cell_type": "code",
   "execution_count": 3,
   "metadata": {},
   "outputs": [],
   "source": [
    "data_set['max_arrears_12m'] = data_set['max_arrears_12m'].round(4)\n",
    "data_set['arrears_months'] = data_set['arrears_months'].round(4)\n",
    "data_set['origination_date'] = data_set['origination_date'].str.replace('/','-')"
   ]
  },
  {
   "cell_type": "code",
   "execution_count": 4,
   "metadata": {},
   "outputs": [],
   "source": [
    "# convertendo campo carregado como objeto para data\n",
    "data_set['origination_date'] = pd.to_datetime(data_set['origination_date'], dayfirst= True) "
   ]
  },
  {
   "cell_type": "code",
   "execution_count": 5,
   "metadata": {},
   "outputs": [],
   "source": [
    "# Criando variável de evento de default\n",
    "data_set['default_event'] = np.where((data_set['arrears_event' ]== 1) |\\\n",
    "                                      (data_set['term_expiry_event']== 1)|\\\n",
    "                                      (data_set['bankrupt_event']== 1)\\\n",
    "                                        , 1,0)\n"
   ]
  },
  {
   "cell_type": "code",
   "execution_count": 6,
   "metadata": {},
   "outputs": [],
   "source": [
    "data_set[['default_event']].to_csv(\"C:\\\\Users\\\\diego\\\\OneDrive\\\\Documentos_OneDrive\\\\LIT_Saint_Paul\\\\LIT_Analise_Multivariada_de_dados\\\\defautl_event.csv\")"
   ]
  },
  {
   "cell_type": "code",
   "execution_count": 51,
   "metadata": {},
   "outputs": [
    {
     "data": {
      "text/html": [
       "<div>\n",
       "<style scoped>\n",
       "    .dataframe tbody tr th:only-of-type {\n",
       "        vertical-align: middle;\n",
       "    }\n",
       "\n",
       "    .dataframe tbody tr th {\n",
       "        vertical-align: top;\n",
       "    }\n",
       "\n",
       "    .dataframe thead th {\n",
       "        text-align: right;\n",
       "    }\n",
       "</style>\n",
       "<table border=\"1\" class=\"dataframe\">\n",
       "  <thead>\n",
       "    <tr style=\"text-align: right;\">\n",
       "      <th></th>\n",
       "      <th>id</th>\n",
       "      <th>vintage_year</th>\n",
       "      <th>monthly_installment</th>\n",
       "      <th>loan_balance</th>\n",
       "      <th>bureau_score</th>\n",
       "      <th>num_bankrupt_iva</th>\n",
       "      <th>time_since_bankrupt</th>\n",
       "      <th>num_ccj</th>\n",
       "      <th>time_since_ccj</th>\n",
       "      <th>ccj_amount</th>\n",
       "      <th>...</th>\n",
       "      <th>avg_mia_6m</th>\n",
       "      <th>max_arrears_bal_6m</th>\n",
       "      <th>max_mia_6m</th>\n",
       "      <th>avg_bal_6m</th>\n",
       "      <th>avg_bureau_score_6m</th>\n",
       "      <th>cc_util</th>\n",
       "      <th>annual_income</th>\n",
       "      <th>emp_length</th>\n",
       "      <th>months_since_recent_cc_delinq</th>\n",
       "      <th>default_event</th>\n",
       "    </tr>\n",
       "  </thead>\n",
       "  <tbody>\n",
       "  </tbody>\n",
       "</table>\n",
       "<p>0 rows × 45 columns</p>\n",
       "</div>"
      ],
      "text/plain": [
       "Empty DataFrame\n",
       "Columns: [id, vintage_year, monthly_installment, loan_balance, bureau_score, num_bankrupt_iva, time_since_bankrupt, num_ccj, time_since_ccj, ccj_amount, num_bankrupt, num_iva, min_months_since_bankrupt, pl_flag, region, ltv, arrears_months, origination_date, maturity_date, repayment_type, arrears_status, arrears_segment, mob, remaining_mat, loan_term, live_status, repaid_status, month, arrears_event, bankrupt_event, term_expiry_event, worst_arrears_status, max_arrears_12m, recent_arrears_date, months_since_2mia, avg_mia_6m, max_arrears_bal_6m, max_mia_6m, avg_bal_6m, avg_bureau_score_6m, cc_util, annual_income, emp_length, months_since_recent_cc_delinq, default_event]\n",
       "Index: []\n",
       "\n",
       "[0 rows x 45 columns]"
      ]
     },
     "execution_count": 51,
     "metadata": {},
     "output_type": "execute_result"
    }
   ],
   "source": [
    "data_set[data_set['bureau_score'].isnull()].head()"
   ]
  },
  {
   "cell_type": "code",
   "execution_count": 82,
   "metadata": {},
   "outputs": [
    {
     "data": {
      "text/plain": [
       "bureau_score     6161\n",
       "default_event    6161\n",
       "dtype: int64"
      ]
     },
     "execution_count": 82,
     "metadata": {},
     "output_type": "execute_result"
    }
   ],
   "source": [
    "data_set[['bureau_score','default_event']].query(\"( bureau_score <= 308) and default_event == 0 \").count()"
   ]
  },
  {
   "cell_type": "code",
   "execution_count": 84,
   "metadata": {},
   "outputs": [
    {
     "data": {
      "text/plain": [
       "bureau_score     6169\n",
       "default_event    6169\n",
       "dtype: int64"
      ]
     },
     "execution_count": 84,
     "metadata": {},
     "output_type": "execute_result"
    }
   ],
   "source": [
    "data_set[['bureau_score','default_event']].query(\"( bureau_score > 404 and bureau_score <= 483) and default_event == 0 \").count()"
   ]
  },
  {
   "cell_type": "code",
   "execution_count": 85,
   "metadata": {},
   "outputs": [
    {
     "data": {
      "text/plain": [
       "bureau_score     6254\n",
       "default_event    6254\n",
       "dtype: int64"
      ]
     },
     "execution_count": 85,
     "metadata": {},
     "output_type": "execute_result"
    }
   ],
   "source": [
    "data_set[['bureau_score','default_event']].query(\"( bureau_score > 483) and default_event == 0 \").count()"
   ]
  },
  {
   "cell_type": "code",
   "execution_count": 36,
   "metadata": {},
   "outputs": [],
   "source": [
    "y = 'default_event'"
   ]
  },
  {
   "cell_type": "code",
   "execution_count": 37,
   "metadata": {},
   "outputs": [],
   "source": [
    "def iv_woe(data, target, bins=10, show_woe=False):\n",
    "    \n",
    "    #Empty Dataframe\n",
    "    newDF,woeDF = pd.DataFrame(), pd.DataFrame()\n",
    "    \n",
    "    #Extract Column Names\n",
    "    cols = data.columns\n",
    "    \n",
    "    #Run WOE and IV on all the independent variables\n",
    "    for ivars in cols[~cols.isin([target])]:\n",
    "        if (data[ivars].dtype.kind in 'bifc') and (len(np.unique(data[ivars]))>10):\n",
    "            binned_x = pd.qcut(data[ivars], bins,  duplicates='drop')\n",
    "            d0 = pd.DataFrame({'x': binned_x, 'y': data[target]})\n",
    "        else:\n",
    "            d0 = pd.DataFrame({'x': data[ivars], 'y': data[target]})\n",
    "        d = d0.groupby(\"x\", as_index=False).agg({\"y\": [\"count\", \"sum\"]})\n",
    "        d.columns = ['Cutoff', 'N', 'Events']\n",
    "        d['% of Events'] = np.maximum(d['Events'], 0.5) / d['Events'].sum()\n",
    "        d['Non-Events'] = d['N'] - d['Events']\n",
    "        d['% of Non-Events'] = np.maximum(d['Non-Events'], 0.5) / d['Non-Events'].sum()\n",
    "        d['WoE'] = np.log(d['% of Events']/d['% of Non-Events'])\n",
    "        d['IV'] = d['WoE'] * (d['% of Events'] - d['% of Non-Events'])\n",
    "        d.insert(loc=0, column='Variable', value=ivars)\n",
    "        print(\"Information value of \" + ivars + \" is \" + str(round(d['IV'].sum(),6)))\n",
    "        temp =pd.DataFrame({\"Variable\" : [ivars], \"IV\" : [d['IV'].sum()]}, columns = [\"Variable\", \"IV\"])\n",
    "        newDF=pd.concat([newDF,temp], axis=0)\n",
    "        woeDF=pd.concat([woeDF,d], axis=0)\n",
    "\n",
    "        #Show WOE Table\n",
    "        if show_woe == True:\n",
    "            print(d)\n",
    "    return newDF, woeDF"
   ]
  },
  {
   "cell_type": "code",
   "execution_count": 38,
   "metadata": {},
   "outputs": [
    {
     "name": "stdout",
     "output_type": "stream",
     "text": [
      "Information value of bureau_score is 0.534308\n"
     ]
    }
   ],
   "source": [
    "iv, woe = iv_woe(data_set[['bureau_score', 'default_event']] , target = 'default_event')"
   ]
  },
  {
   "cell_type": "code",
   "execution_count": 40,
   "metadata": {},
   "outputs": [],
   "source": [
    "break_list = {\n",
    "    'bureau_score': [308, 404, 483],\n",
    "    'cc_util': [0.55, 0.7, 0.85],\n",
    "    'num_ccj': [0, 1],\n",
    "    'max_arrears_12m': [0, 1, 1.4],\n",
    "    'max_arrears_bal_6m': [0, 300, 600,900],\n",
    "    'emp_length': [0, 2, 4,7],\n",
    "    'months_since_recent_cc_delinq': [6,11],\n",
    "    'annual_income': [35064, 41999, 50111, 65050],\n",
    "}"
   ]
  },
  {
   "cell_type": "code",
   "execution_count": 41,
   "metadata": {},
   "outputs": [
    {
     "data": {
      "text/plain": [
       "{'bureau_score': [308, 404, 483]}"
      ]
     },
     "execution_count": 41,
     "metadata": {},
     "output_type": "execute_result"
    }
   ],
   "source": [
    "{'bureau_score': [308, 404, 483]}"
   ]
  },
  {
   "cell_type": "code",
   "execution_count": 88,
   "metadata": {},
   "outputs": [
    {
     "name": "stdout",
     "output_type": "stream",
     "text": [
      "[INFO] creating woe binning ...\n"
     ]
    }
   ],
   "source": [
    "# 8 Variáveis - Preencher  NAs com zrtos antes da aplicação\n",
    "bins = sc.woebin(data_set[['default_event','bureau_score']].query(\"bureau_score > 0\"),'default_event', breaks_list={'bureau_score': [0.00000000001,308, 404, 483]})"
   ]
  },
  {
   "cell_type": "code",
   "execution_count": 89,
   "metadata": {},
   "outputs": [
    {
     "data": {
      "text/plain": [
       "{'bureau_score': <Figure size 432x288 with 2 Axes>}"
      ]
     },
     "execution_count": 89,
     "metadata": {},
     "output_type": "execute_result"
    },
    {
     "data": {
      "image/png": "[encoded data removed]",
      "text/plain": [
       "<Figure size 432x288 with 2 Axes>"
      ]
     },
     "metadata": {
      "needs_background": "light"
     },
     "output_type": "display_data"
    }
   ],
   "source": [
    "sc.woebin_plot(bins)"
   ]
  },
  {
   "cell_type": "code",
   "execution_count": 47,
   "metadata": {},
   "outputs": [
    {
     "data": {
      "text/plain": [
       "{'bureau_score':        variable            bin  count  count_distr  good  bad  badprob  \\\n",
       " 0  bureau_score   [-inf,308.0)   6369       0.2501  5678  691   0.1085   \n",
       " 1  bureau_score  [308.0,404.0)   6316       0.2481  5959  357   0.0565   \n",
       " 2  bureau_score  [404.0,483.0)   6315       0.2480  6158  157   0.0249   \n",
       " 3  bureau_score    [483.0,inf)   6461       0.2538  6334  127   0.0197   \n",
       " \n",
       "       woe  bin_iv  total_iv breaks  is_special_values  \n",
       " 0  0.7905  0.2241    0.5012  308.0              False  \n",
       " 1  0.0818  0.0017    0.5012  404.0              False  \n",
       " 2 -0.7725  0.1061    0.5012  483.0              False  \n",
       " 3 -1.0128  0.1693    0.5012    inf              False  }"
      ]
     },
     "execution_count": 47,
     "metadata": {},
     "output_type": "execute_result"
    }
   ],
   "source": [
    "bins\n"
   ]
  },
  {
   "cell_type": "code",
   "execution_count": 25,
   "metadata": {},
   "outputs": [
    {
     "name": "stdout",
     "output_type": "stream",
     "text": [
      "[INFO] creating woe binning ...\n"
     ]
    },
    {
     "data": {
      "text/plain": [
       "{'cc_util': <Figure size 432x288 with 2 Axes>}"
      ]
     },
     "execution_count": 25,
     "metadata": {},
     "output_type": "execute_result"
    },
    {
     "data": {
      "image/png": "[encoded data removed]",
      "text/plain": [
       "<Figure size 432x288 with 2 Axes>"
      ]
     },
     "metadata": {
      "needs_background": "light"
     },
     "output_type": "display_data"
    }
   ],
   "source": [
    "# 8 Variáveis - Preencher  NAs com zrtos antes da aplicação\n",
    "bins = sc.woebin(data_set[['default_event','cc_util']],'default_event', breaks_list={'cc_util': [0.55, 0.7, 0.85]})\n",
    "sc.woebin_plot(bins)"
   ]
  },
  {
   "cell_type": "code",
   "execution_count": null,
   "metadata": {},
   "outputs": [],
   "source": []
  },
  {
   "cell_type": "code",
   "execution_count": 18,
   "metadata": {},
   "outputs": [
    {
     "name": "stdout",
     "output_type": "stream",
     "text": [
      "[INFO] creating woe binning ...\n"
     ]
    },
    {
     "data": {
      "text/plain": [
       "{'num_ccj': <Figure size 432x288 with 2 Axes>}"
      ]
     },
     "execution_count": 18,
     "metadata": {},
     "output_type": "execute_result"
    },
    {
     "data": {
      "image/png": "[encoded data removed]",
      "text/plain": [
       "<Figure size 432x288 with 2 Axes>"
      ]
     },
     "metadata": {
      "needs_background": "light"
     },
     "output_type": "display_data"
    }
   ],
   "source": [
    "# 8 Variáveis - Preencher  NAs com zrtos antes da aplicação\n",
    "bins = sc.woebin(data_set[['default_event','num_ccj']],'default_event', breaks_list={'num_ccj': [0, 1]})\n",
    "sc.woebin_plot(bins)\n"
   ]
  },
  {
   "cell_type": "code",
   "execution_count": 26,
   "metadata": {},
   "outputs": [
    {
     "data": {
      "text/plain": [
       "{'cc_util':   variable          bin  count  count_distr   good  bad  badprob     woe  \\\n",
       " 0  cc_util  [-inf,0.55)  16539       0.6384  16398  141   0.0085 -1.8646   \n",
       " 1  cc_util   [0.55,0.7)   5804       0.2240   5331  473   0.0815  0.4693   \n",
       " 2  cc_util   [0.7,0.85)   2586       0.0998   2196  390   0.1508  1.1633   \n",
       " 3  cc_util   [0.85,inf)    977       0.0377    619  358   0.3664  2.3439   \n",
       " \n",
       "    bin_iv  total_iv breaks  is_special_values  \n",
       " 0  1.0527    1.8998   0.55              False  \n",
       " 1  0.0610    1.8998    0.7              False  \n",
       " 2  0.2290    1.8998   0.85              False  \n",
       " 3  0.5570    1.8998    inf              False  }"
      ]
     },
     "execution_count": 26,
     "metadata": {},
     "output_type": "execute_result"
    }
   ],
   "source": [
    "bins"
   ]
  },
  {
   "cell_type": "code",
   "execution_count": 31,
   "metadata": {},
   "outputs": [
    {
     "name": "stdout",
     "output_type": "stream",
     "text": [
      "[INFO] creating woe binning ...\n"
     ]
    },
    {
     "data": {
      "text/plain": [
       "{'max_arrears_12m': <Figure size 432x288 with 2 Axes>}"
      ]
     },
     "execution_count": 31,
     "metadata": {},
     "output_type": "execute_result"
    },
    {
     "data": {
      "image/png": "[encoded data removed]",
      "text/plain": [
       "<Figure size 432x288 with 2 Axes>"
      ]
     },
     "metadata": {
      "needs_background": "light"
     },
     "output_type": "display_data"
    }
   ],
   "source": [
    "# 8 Variáveis - Preencher  NAs com zrtos antes da aplicação\n",
    "bins = sc.woebin(data_set[['default_event','max_arrears_12m']],'default_event', breaks_list={'max_arrears_12m': [0.00001, 1, 1.4]})\n",
    "sc.woebin_plot(bins)"
   ]
  },
  {
   "cell_type": "code",
   "execution_count": 32,
   "metadata": {},
   "outputs": [
    {
     "data": {
      "text/plain": [
       "{'max_arrears_12m':           variable           bin  count  count_distr   good  bad  badprob  \\\n",
       " 0  max_arrears_12m  [-inf,1e-05)  21842       0.8431  21243  599   0.0274   \n",
       " 1  max_arrears_12m   [1e-05,1.0)   1606       0.0620   1457  149   0.0928   \n",
       " 2  max_arrears_12m     [1.0,1.4)    762       0.0294    651  111   0.1457   \n",
       " 3  max_arrears_12m     [1.4,inf)   1696       0.0655   1193  503   0.2966   \n",
       " \n",
       "       woe  bin_iv  total_iv breaks  is_special_values  \n",
       " 0 -0.6770  0.2882    1.0309  1e-05              False  \n",
       " 1  0.6113  0.0306    1.0309    1.0              False  \n",
       " 2  1.1225  0.0617    1.0309    1.4              False  \n",
       " 3  2.0279  0.6503    1.0309    inf              False  }"
      ]
     },
     "execution_count": 32,
     "metadata": {},
     "output_type": "execute_result"
    }
   ],
   "source": [
    "bins"
   ]
  },
  {
   "cell_type": "code",
   "execution_count": 20,
   "metadata": {},
   "outputs": [
    {
     "name": "stdout",
     "output_type": "stream",
     "text": [
      "[INFO] creating woe binning ...\n"
     ]
    },
    {
     "data": {
      "text/plain": [
       "{'max_arrears_bal_6m': <Figure size 432x288 with 2 Axes>}"
      ]
     },
     "execution_count": 20,
     "metadata": {},
     "output_type": "execute_result"
    },
    {
     "data": {
      "image/png": "[encoded data removed]",
      "text/plain": [
       "<Figure size 432x288 with 2 Axes>"
      ]
     },
     "metadata": {
      "needs_background": "light"
     },
     "output_type": "display_data"
    }
   ],
   "source": [
    "# 8 Variáveis - Preencher  NAs com zrtos antes da aplicação\n",
    "bins = sc.woebin(data_set[['default_event','max_arrears_bal_6m']],'default_event', breaks_list={'woe_max_arrears_bal_6m': [0, 300, 600,900]})\n",
    "sc.woebin_plot(bins)\n"
   ]
  },
  {
   "cell_type": "code",
   "execution_count": null,
   "metadata": {},
   "outputs": [],
   "source": [
    "bins"
   ]
  },
  {
   "cell_type": "code",
   "execution_count": 21,
   "metadata": {},
   "outputs": [
    {
     "name": "stdout",
     "output_type": "stream",
     "text": [
      "[INFO] creating woe binning ...\n"
     ]
    },
    {
     "data": {
      "text/plain": [
       "{'emp_length': <Figure size 432x288 with 2 Axes>}"
      ]
     },
     "execution_count": 21,
     "metadata": {},
     "output_type": "execute_result"
    },
    {
     "data": {
      "image/png": "[encoded data removed]",
      "text/plain": [
       "<Figure size 432x288 with 2 Axes>"
      ]
     },
     "metadata": {
      "needs_background": "light"
     },
     "output_type": "display_data"
    }
   ],
   "source": [
    "# 8 Variáveis - Preencher  NAs com zrtos antes da aplicação\n",
    "bins = sc.woebin(data_set[['default_event','emp_length']],'default_event', breaks_list={'emp_length':  [0, 2, 4,7]})\n",
    "sc.woebin_plot(bins)\n"
   ]
  },
  {
   "cell_type": "code",
   "execution_count": null,
   "metadata": {},
   "outputs": [],
   "source": [
    "bins"
   ]
  },
  {
   "cell_type": "code",
   "execution_count": 22,
   "metadata": {},
   "outputs": [
    {
     "name": "stdout",
     "output_type": "stream",
     "text": [
      "[INFO] creating woe binning ...\n"
     ]
    },
    {
     "data": {
      "text/plain": [
       "{'months_since_recent_cc_delinq': <Figure size 432x288 with 2 Axes>}"
      ]
     },
     "execution_count": 22,
     "metadata": {},
     "output_type": "execute_result"
    },
    {
     "data": {
      "image/png": "[encoded data removed]",
      "text/plain": [
       "<Figure size 432x288 with 2 Axes>"
      ]
     },
     "metadata": {
      "needs_background": "light"
     },
     "output_type": "display_data"
    }
   ],
   "source": [
    "# 8 Variáveis - Preencher  NAs com zrtos antes da aplicação\n",
    "bins = sc.woebin(data_set[['default_event','months_since_recent_cc_delinq']],'default_event', breaks_list={'months_since_recent_cc_delinq': [6,11]})\n",
    "sc.woebin_plot(bins)\n"
   ]
  },
  {
   "cell_type": "code",
   "execution_count": null,
   "metadata": {},
   "outputs": [],
   "source": [
    "bins"
   ]
  },
  {
   "cell_type": "code",
   "execution_count": 23,
   "metadata": {},
   "outputs": [
    {
     "name": "stdout",
     "output_type": "stream",
     "text": [
      "[INFO] creating woe binning ...\n"
     ]
    },
    {
     "data": {
      "text/plain": [
       "{'annual_income': <Figure size 432x288 with 2 Axes>}"
      ]
     },
     "execution_count": 23,
     "metadata": {},
     "output_type": "execute_result"
    },
    {
     "data": {
      "image/png": "[encoded data removed]",
      "text/plain": [
       "<Figure size 432x288 with 2 Axes>"
      ]
     },
     "metadata": {
      "needs_background": "light"
     },
     "output_type": "display_data"
    }
   ],
   "source": [
    "# 8 Variáveis - Preencher  NAs com zrtos antes da aplicação\n",
    "bins = sc.woebin(data_set[['default_event','annual_income']],'default_event', breaks_list={'annual_income': [35064, 41999, 50111, 65050]})\n",
    "sc.woebin_plot(bins)\n"
   ]
  },
  {
   "cell_type": "code",
   "execution_count": null,
   "metadata": {},
   "outputs": [],
   "source": [
    "bins"
   ]
  },
  {
   "cell_type": "code",
   "execution_count": null,
   "metadata": {},
   "outputs": [],
   "source": []
  },
  {
   "cell_type": "code",
   "execution_count": null,
   "metadata": {},
   "outputs": [],
   "source": []
  },
  {
   "cell_type": "code",
   "execution_count": null,
   "metadata": {},
   "outputs": [],
   "source": []
  },
  {
   "cell_type": "code",
   "execution_count": 11,
   "metadata": {},
   "outputs": [],
   "source": [
    "# Bureau Score - OK\n",
    "data_set['woe_bureau_score'] = [None]*len(data_set['bureau_score'])\n",
    "data_set.loc[data_set['bureau_score'].isna(), 'woe_bureau_score'] = -0.0910\n",
    "data_set.loc[data_set['bureau_score'] <= 308, 'woe_bureau_score'] = -0.7994\n",
    "data_set.loc[(data_set['bureau_score'] > 308) & (data_set['bureau_score'] <= 404), 'woe_bureau_score'] = -0.0545\n",
    "data_set.loc[(data_set['bureau_score'] > 404) & (data_set['bureau_score'] <= 483), 'woe_bureau_score'] = 0.7722\n",
    "data_set.loc[data_set['bureau_score'] > 483, 'woe_bureau_score'] = 1.0375"
   ]
  },
  {
   "cell_type": "code",
   "execution_count": 12,
   "metadata": {},
   "outputs": [],
   "source": [
    "# CC Util - OK\n",
    "data_set['woe_cc_util'] = [None]*len(data_set['cc_util'])\n",
    "data_set.loc[data_set['cc_util'].isna(), 'woe_cc_util'] = 0\n",
    "data_set.loc[data_set['cc_util'] <= 0.55, 'woe_cc_util'] = 1.8323\n",
    "data_set.loc[(data_set['cc_util'] > 0.55) & (data_set['cc_util'] <= 0.70), 'woe_cc_util'] = -0.4867\n",
    "data_set.loc[(data_set['cc_util'] > 0.7) & (data_set['cc_util'] <= 0.85), 'woe_cc_util'] = -1.1623\n",
    "data_set.loc[data_set['cc_util'] > 0.85, 'woe_cc_util'] = -2.3562\n"
   ]
  },
  {
   "cell_type": "code",
   "execution_count": 13,
   "metadata": {},
   "outputs": [],
   "source": [
    "data_set['woe_num_ccj'] = [None]*len(data_set['num_ccj'])\n",
    "data_set.loc[data_set['num_ccj'].isna(), 'woe_num_ccj'] = -0.0910\n",
    "data_set.loc[data_set['num_ccj'] <= 0, 'woe_num_ccj'] = -0.1877\n",
    "data_set.loc[(data_set['num_ccj'] > 0) & (data_set['num_ccj'] <= 1), 'woe_num_ccj'] = -0.9166\n",
    "data_set.loc[(data_set['num_ccj'] > 1), 'woe_num_ccj'] = -1.1322"
   ]
  },
  {
   "cell_type": "code",
   "execution_count": 15,
   "metadata": {},
   "outputs": [],
   "source": [
    "# max_arrears_12m - OK\n",
    "data_set['woe_max_arrears_12m'] = [None]*len(data_set['max_arrears_12m'])\n",
    "data_set.loc[data_set['max_arrears_12m'].isna(), 'woe_max_arrears_12m'] = 0\n",
    "data_set.loc[data_set['max_arrears_12m'] <= 0,'woe_max_arrears_12m'] = 0.7027\n",
    "data_set.loc[(data_set['max_arrears_12m'] > 0) & (data_set['max_arrears_12m'] <= 1), 'woe_max_arrears_12m'] = -0.8291\n",
    "data_set.loc[(data_set['max_arrears_12m'] > 1) & (data_set['max_arrears_12m'] <= 1.4), 'woe_max_arrears_12m'] = -1.1908\n",
    "data_set.loc[data_set['max_arrears_12m'] > 1.4, 'woe_max_arrears_12m'] = -2.2223"
   ]
  },
  {
   "cell_type": "code",
   "execution_count": 16,
   "metadata": {},
   "outputs": [],
   "source": [
    "# max_arrears_bal_6m - OK\n",
    "data_set['woe_max_arrears_bal_6m'] = [None]*len(data_set['max_arrears_bal_6m'])\n",
    "data_set.loc[data_set['max_arrears_bal_6m'].isna(), 'woe_max_arrears_bal_6m'] = 0\n",
    "data_set.loc[data_set['max_arrears_bal_6m'] <= 0, 'woe_max_arrears_bal_6m'] = 0.5771\n",
    "data_set.loc[(data_set['max_arrears_bal_6m'] > 0) & (data_set['max_arrears_bal_6m'] <= 300), 'woe_max_arrears_bal_6m'] = -0.7818\n",
    "data_set.loc[(data_set['max_arrears_bal_6m'] > 300) & (data_set['max_arrears_bal_6m'] <= 600), 'woe_max_arrears_bal_6m'] = -1.2958\n",
    "data_set.loc[(data_set['max_arrears_bal_6m'] > 600) & (data_set['max_arrears_bal_6m'] <= 900), 'woe_max_arrears_bal_6m'] = -1.5753\n",
    "data_set.loc[data_set['max_arrears_bal_6m'] > 900, 'woe_max_arrears_bal_6m'] = -2.2110\n"
   ]
  },
  {
   "cell_type": "code",
   "execution_count": 17,
   "metadata": {},
   "outputs": [],
   "source": [
    "# emp_length - OK\n",
    "data_set['woe_emp_length'] = [None]*len(data_set['emp_length'])\n",
    "data_set.loc[data_set['emp_length'].isna(), 'woe_emp_length'] = 0\n",
    "data_set.loc[data_set['emp_length'] <= 2, 'woe_emp_length'] = -0.7514\n",
    "data_set.loc[(data_set['emp_length'] > 2) & (data_set['emp_length'] <= 4), 'woe_emp_length'] = -0.3695\n",
    "data_set.loc[(data_set['emp_length'] > 4) & (data_set['emp_length'] <= 7), 'woe_emp_length'] = 0.1783\n",
    "data_set.loc[data_set['emp_length'] > 7, 'woe_emp_length'] = 0.5827"
   ]
  },
  {
   "cell_type": "code",
   "execution_count": 18,
   "metadata": {},
   "outputs": [],
   "source": [
    "# months_since_recent_cc_delinq\n",
    "data_set['woe_months_since_recent_cc_delinq'] = [None]*len(data_set['months_since_recent_cc_delinq'])\n",
    "data_set.loc[data_set['months_since_recent_cc_delinq'].isna(), 'woe_months_since_recent_cc_delinq'] = 0\n",
    "data_set.loc[data_set['months_since_recent_cc_delinq'] < 6, 'woe_months_since_recent_cc_delinq'] = -0.4176\n",
    "data_set.loc[(data_set['months_since_recent_cc_delinq'] >= 6) & (data_set['months_since_recent_cc_delinq'] <= 11), 'woe_months_since_recent_cc_delinq'] = -0.1942\n",
    "data_set.loc[data_set['months_since_recent_cc_delinq'] > 11, 'woe_months_since_recent_cc_delinq'] = 1.3166"
   ]
  },
  {
   "cell_type": "code",
   "execution_count": 19,
   "metadata": {},
   "outputs": [],
   "source": [
    "# annual_income\n",
    "data_set['woe_annual_income'] = [None]*len(data_set['annual_income'])\n",
    "data_set.loc[data_set['annual_income'].isna(), 'woe_annual_income'] = 0\n",
    "data_set.loc[data_set['annual_income'] <= 35064, 'woe_annual_income'] = -1.8243\n",
    "data_set.loc[(data_set['annual_income'] > 35064) & (data_set['annual_income'] <= 41999), 'woe_annual_income'] = -0.8272\n",
    "data_set.loc[(data_set['annual_income'] > 41999) & (data_set['annual_income'] <= 50111), 'woe_annual_income'] = -0.3294\n",
    "data_set.loc[(data_set['annual_income'] > 50111) & (data_set['annual_income'] <= 65050), 'woe_annual_income'] = 0.2379\n",
    "data_set.loc[data_set['annual_income'] > 65050, 'woe_annual_income'] = 0.6234"
   ]
  },
  {
   "cell_type": "code",
   "execution_count": 20,
   "metadata": {},
   "outputs": [],
   "source": [
    "# As colunas são criadas como sendo do tipo texto - deve-se converter para float para visualização da matriz de correlação\n",
    "data_set['woe_bureau_score'] = data_set['woe_bureau_score'].astype(float)\n",
    "data_set['woe_cc_util'] = data_set['woe_cc_util'].astype(float)\n",
    "data_set['woe_num_ccj'] = data_set['woe_num_ccj'].astype(float)\n",
    "data_set['woe_max_arrears_12m'] = data_set['woe_max_arrears_12m'].astype(float)\n",
    "data_set['woe_max_arrears_bal_6m'] = data_set['woe_max_arrears_bal_6m'].astype(float)\n",
    "data_set['woe_emp_length'] = data_set['woe_emp_length'].astype(float)\n",
    "data_set['woe_months_since_recent_cc_delinq'] = data_set['woe_months_since_recent_cc_delinq'].astype(float)\n",
    "data_set['woe_annual_income'] = data_set['woe_annual_income'].astype(float)"
   ]
  },
  {
   "cell_type": "code",
   "execution_count": 21,
   "metadata": {},
   "outputs": [],
   "source": [
    "y = data_set['default_event']"
   ]
  },
  {
   "cell_type": "code",
   "execution_count": 22,
   "metadata": {},
   "outputs": [],
   "source": [
    "x = data_set[['woe_bureau_score',\n",
    "              'woe_cc_util', \n",
    "              'woe_num_ccj',\n",
    "              'woe_max_arrears_12m',\n",
    "              'woe_max_arrears_bal_6m',\n",
    "              'woe_emp_length',\n",
    "              'woe_months_since_recent_cc_delinq',\n",
    "              'woe_annual_income',\n",
    "              ]]"
   ]
  },
  {
   "cell_type": "code",
   "execution_count": 23,
   "metadata": {},
   "outputs": [],
   "source": [
    "from sklearn.model_selection import train_test_split \n",
    "treino, teste = train_test_split(data_set, test_size=0.3, random_state =2122)"
   ]
  },
  {
   "cell_type": "code",
   "execution_count": 24,
   "metadata": {},
   "outputs": [],
   "source": [
    "# Comando para a divisão entre treino e teste\n",
    "from sklearn.model_selection import train_test_split \n",
    "x_treino, x_teste, y_treino, y_teste = train_test_split(x, y, test_size = 0.3, random_state =2122)"
   ]
  },
  {
   "cell_type": "code",
   "execution_count": 25,
   "metadata": {},
   "outputs": [
    {
     "data": {
      "text/plain": [
       "<AxesSubplot:>"
      ]
     },
     "execution_count": 25,
     "metadata": {},
     "output_type": "execute_result"
    },
    {
     "data": {
      "image/png": "[encoded data removed]",
      "text/plain": [
       "<Figure size 1008x720 with 2 Axes>"
      ]
     },
     "metadata": {
      "needs_background": "light"
     },
     "output_type": "display_data"
    }
   ],
   "source": [
    "# 15 Variáveis - quais são as relevantes - retirar cor da cevada - roast color\n",
    "plt.figure(figsize=(14, 10))\n",
    "sns.heatmap(treino[['woe_bureau_score', \n",
    "                      'woe_cc_util', \n",
    "                      'woe_num_ccj', \n",
    "                      'woe_max_arrears_12m',\n",
    "                      'woe_max_arrears_bal_6m',\n",
    "                      'woe_emp_length',\n",
    "                      'woe_months_since_recent_cc_delinq',\n",
    "                      'woe_annual_income'\n",
    "                      ]].corr(method = 'spearman'), cmap = 'Blues', annot= True)"
   ]
  },
  {
   "cell_type": "code",
   "execution_count": 26,
   "metadata": {},
   "outputs": [],
   "source": [
    "x = data_set[['woe_bureau_score',\n",
    "              'woe_cc_util', \n",
    "              'woe_num_ccj',\n",
    "              'woe_max_arrears_12m',\n",
    "              'woe_max_arrears_bal_6m',\n",
    "              'woe_emp_length',\n",
    "              'woe_months_since_recent_cc_delinq',\n",
    "              'woe_annual_income',\n",
    "              ]]"
   ]
  },
  {
   "cell_type": "code",
   "execution_count": 39,
   "metadata": {},
   "outputs": [
    {
     "name": "stderr",
     "output_type": "stream",
     "text": [
      "c:\\Users\\diego\\Anaconda3\\lib\\site-packages\\statsmodels\\base\\model.py:127: ValueWarning: unknown kwargs ['method']\n",
      "  warnings.warn(msg, ValueWarning)\n"
     ]
    },
    {
     "name": "stdout",
     "output_type": "stream",
     "text": [
      "                 Generalized Linear Model Regression Results                  \n",
      "==============================================================================\n",
      "Dep. Variable:          default_event   No. Observations:                18134\n",
      "Model:                            GLM   Df Residuals:                    18126\n",
      "Model Family:                Binomial   Df Model:                            7\n",
      "Link Function:                  Logit   Scale:                          1.0000\n",
      "Method:                          IRLS   Log-Likelihood:                -2366.0\n",
      "Date:                Wed, 31 May 2023   Deviance:                       4732.0\n",
      "Time:                        10:20:25   Pearson chi2:                 1.70e+04\n",
      "No. Iterations:                     8   Pseudo R-squ. (CS):             0.1477\n",
      "Covariance Type:            nonrobust                                         \n",
      "=====================================================================================================\n",
      "                                        coef    std err          z      P>|z|      [0.025      0.975]\n",
      "-----------------------------------------------------------------------------------------------------\n",
      "const                                -2.8896      0.063    -45.652      0.000      -3.014      -2.766\n",
      "woe_bureau_score                     -0.4897      0.062     -7.848      0.000      -0.612      -0.367\n",
      "woe_annual_income                    -0.9371      0.058    -16.286      0.000      -1.050      -0.824\n",
      "woe_emp_length                       -0.1051      0.102     -1.026      0.305      -0.306       0.096\n",
      "woe_max_arrears_12m                  -0.7540      0.035    -21.321      0.000      -0.823      -0.685\n",
      "woe_months_since_recent_cc_delinq    -0.3362      0.086     -3.905      0.000      -0.505      -0.167\n",
      "woe_num_ccj                          -0.1069      0.137     -0.780      0.436      -0.376       0.162\n",
      "woe_cc_util                          -0.9427      0.034    -27.694      0.000      -1.009      -0.876\n",
      "=====================================================================================================\n"
     ]
    }
   ],
   "source": [
    "# Defina as variáveis independentes (X) e a variável dependente (y)\n",
    "x_logit = x_treino[['woe_bureau_score',\n",
    "                    'woe_annual_income',\n",
    "                    'woe_emp_length',\n",
    "                    'woe_max_arrears_12m',\n",
    "                    'woe_months_since_recent_cc_delinq',\n",
    "                    'woe_num_ccj', \n",
    "                    'woe_cc_util' ]]\n",
    "\n",
    "y_logit = y_treino\n",
    "\n",
    "# Adicione uma coluna de interceptação aos dados\n",
    "x_logit = sm.add_constant(x_logit)\n",
    "\n",
    "# Ajuste o modelo de regressão logística\n",
    "model = sm.GLM(y_logit, x_logit, family=sm.families.Binomial(), method = 'newton')\n",
    "\n",
    "# Obtenha os resultados do modelo\n",
    "result = model.fit()\n",
    "\n",
    "# Imprima um resumo do modelo\n",
    "print(result.summary())"
   ]
  },
  {
   "cell_type": "code",
   "execution_count": 52,
   "metadata": {},
   "outputs": [],
   "source": [
    "y_predict_treino = result.predict(x_treino)"
   ]
  },
  {
   "cell_type": "code",
   "execution_count": 53,
   "metadata": {},
   "outputs": [],
   "source": [
    "y_predict_teste = result.predict(x_teste)"
   ]
  },
  {
   "cell_type": "code",
   "execution_count": 60,
   "metadata": {},
   "outputs": [],
   "source": [
    "y_predict_df_treino = pd.DataFrame(y_predict_treino, columns=['predito'])"
   ]
  },
  {
   "cell_type": "code",
   "execution_count": null,
   "metadata": {},
   "outputs": [],
   "source": [
    "y_predict_df_treino['treino'] = 'r'"
   ]
  },
  {
   "cell_type": "code",
   "execution_count": 61,
   "metadata": {},
   "outputs": [],
   "source": [
    "y_predict_df_teste = pd.DataFrame(y_predict_teste, columns=['predito'])\n"
   ]
  },
  {
   "cell_type": "code",
   "execution_count": 64,
   "metadata": {},
   "outputs": [],
   "source": [
    "data_whole = pd.concat([y_predict_df_treino, y_predict_df_teste], axis=0)\n"
   ]
  },
  {
   "cell_type": "code",
   "execution_count": 65,
   "metadata": {},
   "outputs": [
    {
     "data": {
      "text/html": [
       "<div>\n",
       "<style scoped>\n",
       "    .dataframe tbody tr th:only-of-type {\n",
       "        vertical-align: middle;\n",
       "    }\n",
       "\n",
       "    .dataframe tbody tr th {\n",
       "        vertical-align: top;\n",
       "    }\n",
       "\n",
       "    .dataframe thead th {\n",
       "        text-align: right;\n",
       "    }\n",
       "</style>\n",
       "<table border=\"1\" class=\"dataframe\">\n",
       "  <thead>\n",
       "    <tr style=\"text-align: right;\">\n",
       "      <th></th>\n",
       "      <th>predito</th>\n",
       "    </tr>\n",
       "  </thead>\n",
       "  <tbody>\n",
       "    <tr>\n",
       "      <th>17395</th>\n",
       "      <td>0.5723</td>\n",
       "    </tr>\n",
       "    <tr>\n",
       "      <th>10901</th>\n",
       "      <td>0.3069</td>\n",
       "    </tr>\n",
       "    <tr>\n",
       "      <th>8455</th>\n",
       "      <td>0.9500</td>\n",
       "    </tr>\n",
       "  </tbody>\n",
       "</table>\n",
       "</div>"
      ],
      "text/plain": [
       "       predito\n",
       "17395   0.5723\n",
       "10901   0.3069\n",
       "8455    0.9500"
      ]
     },
     "execution_count": 65,
     "metadata": {},
     "output_type": "execute_result"
    }
   ],
   "source": [
    "data_whole.head(3)"
   ]
  },
  {
   "cell_type": "code",
   "execution_count": 42,
   "metadata": {},
   "outputs": [],
   "source": [
    "# TRANSFORMA O RESULTADO DE UMA REGRESSÃO LOGISTICA EM UM SCORE QUE VARIA DE 0 A 10000\n",
    "def scaled_score(logit, odds, offset=500, pdo=20):\n",
    "    b = pdo / np.log(2)\n",
    "    a = offset - b * np.log(odds)\n",
    "    return np.round(a + b * np.log((1 - logit) / logit))"
   ]
  },
  {
   "cell_type": "code",
   "execution_count": 47,
   "metadata": {},
   "outputs": [],
   "source": [
    "data_score = pd.concat([x_treino, y_predict_df], axis=1)"
   ]
  },
  {
   "cell_type": "code",
   "execution_count": 48,
   "metadata": {},
   "outputs": [
    {
     "data": {
      "text/plain": [
       "(18134, 9)"
      ]
     },
     "execution_count": 48,
     "metadata": {},
     "output_type": "execute_result"
    }
   ],
   "source": [
    "np.shape(data_score)"
   ]
  },
  {
   "cell_type": "code",
   "execution_count": 49,
   "metadata": {},
   "outputs": [
    {
     "data": {
      "text/html": [
       "<div>\n",
       "<style scoped>\n",
       "    .dataframe tbody tr th:only-of-type {\n",
       "        vertical-align: middle;\n",
       "    }\n",
       "\n",
       "    .dataframe tbody tr th {\n",
       "        vertical-align: top;\n",
       "    }\n",
       "\n",
       "    .dataframe thead th {\n",
       "        text-align: right;\n",
       "    }\n",
       "</style>\n",
       "<table border=\"1\" class=\"dataframe\">\n",
       "  <thead>\n",
       "    <tr style=\"text-align: right;\">\n",
       "      <th></th>\n",
       "      <th>woe_bureau_score</th>\n",
       "      <th>woe_cc_util</th>\n",
       "      <th>woe_num_ccj</th>\n",
       "      <th>woe_max_arrears_12m</th>\n",
       "      <th>woe_max_arrears_bal_6m</th>\n",
       "      <th>woe_emp_length</th>\n",
       "      <th>woe_months_since_recent_cc_delinq</th>\n",
       "      <th>woe_annual_income</th>\n",
       "      <th>y_predict</th>\n",
       "    </tr>\n",
       "  </thead>\n",
       "  <tbody>\n",
       "    <tr>\n",
       "      <th>17395</th>\n",
       "      <td>-0.7994</td>\n",
       "      <td>1.8323</td>\n",
       "      <td>-0.1877</td>\n",
       "      <td>0.7027</td>\n",
       "      <td>0.5771</td>\n",
       "      <td>0.1783</td>\n",
       "      <td>1.3166</td>\n",
       "      <td>0.6234</td>\n",
       "      <td>0.5723</td>\n",
       "    </tr>\n",
       "    <tr>\n",
       "      <th>10901</th>\n",
       "      <td>-0.0545</td>\n",
       "      <td>1.8323</td>\n",
       "      <td>-0.9166</td>\n",
       "      <td>0.7027</td>\n",
       "      <td>0.5771</td>\n",
       "      <td>0.1783</td>\n",
       "      <td>1.3166</td>\n",
       "      <td>0.2379</td>\n",
       "      <td>0.3069</td>\n",
       "    </tr>\n",
       "    <tr>\n",
       "      <th>8455</th>\n",
       "      <td>-0.7994</td>\n",
       "      <td>1.8323</td>\n",
       "      <td>-0.1877</td>\n",
       "      <td>0.7027</td>\n",
       "      <td>0.5771</td>\n",
       "      <td>-0.3695</td>\n",
       "      <td>-0.1942</td>\n",
       "      <td>-1.8243</td>\n",
       "      <td>0.9500</td>\n",
       "    </tr>\n",
       "    <tr>\n",
       "      <th>11546</th>\n",
       "      <td>1.0375</td>\n",
       "      <td>1.8323</td>\n",
       "      <td>-0.1877</td>\n",
       "      <td>0.7027</td>\n",
       "      <td>0.5771</td>\n",
       "      <td>0.1783</td>\n",
       "      <td>1.3166</td>\n",
       "      <td>0.6234</td>\n",
       "      <td>0.0066</td>\n",
       "    </tr>\n",
       "    <tr>\n",
       "      <th>1309</th>\n",
       "      <td>1.0375</td>\n",
       "      <td>1.8323</td>\n",
       "      <td>-0.1877</td>\n",
       "      <td>0.7027</td>\n",
       "      <td>0.5771</td>\n",
       "      <td>0.5827</td>\n",
       "      <td>1.3166</td>\n",
       "      <td>0.6234</td>\n",
       "      <td>0.0058</td>\n",
       "    </tr>\n",
       "  </tbody>\n",
       "</table>\n",
       "</div>"
      ],
      "text/plain": [
       "       woe_bureau_score  woe_cc_util  woe_num_ccj  woe_max_arrears_12m  \\\n",
       "17395           -0.7994       1.8323      -0.1877               0.7027   \n",
       "10901           -0.0545       1.8323      -0.9166               0.7027   \n",
       "8455            -0.7994       1.8323      -0.1877               0.7027   \n",
       "11546            1.0375       1.8323      -0.1877               0.7027   \n",
       "1309             1.0375       1.8323      -0.1877               0.7027   \n",
       "\n",
       "       woe_max_arrears_bal_6m  woe_emp_length  \\\n",
       "17395                  0.5771          0.1783   \n",
       "10901                  0.5771          0.1783   \n",
       "8455                   0.5771         -0.3695   \n",
       "11546                  0.5771          0.1783   \n",
       "1309                   0.5771          0.5827   \n",
       "\n",
       "       woe_months_since_recent_cc_delinq  woe_annual_income  y_predict  \n",
       "17395                             1.3166             0.6234     0.5723  \n",
       "10901                             1.3166             0.2379     0.3069  \n",
       "8455                             -0.1942            -1.8243     0.9500  \n",
       "11546                             1.3166             0.6234     0.0066  \n",
       "1309                              1.3166             0.6234     0.0058  "
      ]
     },
     "execution_count": 49,
     "metadata": {},
     "output_type": "execute_result"
    }
   ],
   "source": [
    "data_score.head()"
   ]
  },
  {
   "cell_type": "code",
   "execution_count": 44,
   "metadata": {},
   "outputs": [
    {
     "data": {
      "text/plain": [
       "Index(['woe_bureau_score', 'woe_cc_util', 'woe_num_ccj', 'woe_max_arrears_12m',\n",
       "       'woe_max_arrears_bal_6m', 'woe_emp_length',\n",
       "       'woe_months_since_recent_cc_delinq', 'woe_annual_income', 'y_predict'],\n",
       "      dtype='object')"
      ]
     },
     "execution_count": 44,
     "metadata": {},
     "output_type": "execute_result"
    }
   ],
   "source": [
    "data_score.columns"
   ]
  },
  {
   "cell_type": "code",
   "execution_count": 45,
   "metadata": {},
   "outputs": [],
   "source": [
    "\n",
    "data_score['score'] = scaled_score(data_score['y_predict'], 72, 660, 40)"
   ]
  },
  {
   "cell_type": "code",
   "execution_count": 46,
   "metadata": {},
   "outputs": [
    {
     "data": {
      "image/png": "[encoded data removed]",
      "text/plain": [
       "<Figure size 432x288 with 1 Axes>"
      ]
     },
     "metadata": {
      "needs_background": "light"
     },
     "output_type": "display_data"
    }
   ],
   "source": [
    "plt.hist(data_score['score'])\n",
    "plt.show()"
   ]
  },
  {
   "cell_type": "code",
   "execution_count": 35,
   "metadata": {},
   "outputs": [
    {
     "name": "stdout",
     "output_type": "stream",
     "text": [
      "Pontuação escalada: 347.0\n"
     ]
    }
   ],
   "source": [
    "# Cria uma função que altera a escala da função logistica\n",
    "def scaled_score(logit, odds, offset=500, pdo=20):\n",
    "    b = pdo / np.log(2)\n",
    "    a = offset - b * np.log(odds)\n",
    "    return np.round(a + b * np.log((1 - logit) / logit))\n",
    "\n",
    "# Exemplo de uso\n",
    "logit_score = 0.8\n",
    "odds_value = 50\n",
    "\n",
    "scaled = scaled_score(logit_score, odds_value)\n",
    "print(\"Pontuação escalada:\", scaled)"
   ]
  },
  {
   "cell_type": "code",
   "execution_count": 28,
   "metadata": {},
   "outputs": [
    {
     "name": "stdout",
     "output_type": "stream",
     "text": [
      "       annual_income  annual_income_binned  annual_income_WOE\n",
      "0              76749                3.0000             0.5249\n",
      "1              78451                4.0000             0.6277\n",
      "2              31038                0.0000             2.3532\n",
      "3              56663                1.0000             0.8737\n",
      "4              77014                3.0000             0.5249\n",
      "...              ...                   ...                ...\n",
      "25901          56976                1.0000             0.8737\n",
      "25902          92176                4.0000             0.6277\n",
      "25903          63121                2.0000             0.6206\n",
      "25904          41696                0.0000             2.3532\n",
      "25905          46633                0.0000             2.3532\n",
      "\n",
      "[25906 rows x 3 columns]\n"
     ]
    }
   ],
   "source": [
    "# Algorítmos para criar os binaries - Método - 01\n",
    "import pandas as pd\n",
    "from sklearn.preprocessing import KBinsDiscretizer\n",
    "data_set = data_set[['annual_income', 'default_event']]\n",
    "\n",
    "# Definir o número desejado de bins\n",
    "num_bins = 5\n",
    "\n",
    "# Realizar o binning da variável 'Idade'\n",
    "age_discretizer = KBinsDiscretizer(n_bins=num_bins, encode='ordinal', strategy='quantile')\n",
    "data_set['annual_income_binned'] = age_discretizer.fit_transform(data_set[['annual_income']])\n",
    "\n",
    "# Calcular o WOE para cada categoria de 'Age'\n",
    "age_woe = data_set.groupby('annual_income_binned')['default_event'].mean() / data_set['default_event'].mean()\n",
    "\n",
    "# Substituir as categorias pelos valores de WOE\n",
    "data_set['annual_income_WOE'] = data_set['annual_income_binned'].map(age_woe)\n",
    "\n",
    "# Verificar o resultado\n",
    "print(data_set[['annual_income', 'annual_income_binned', 'annual_income_WOE']])"
   ]
  },
  {
   "cell_type": "code",
   "execution_count": 29,
   "metadata": {},
   "outputs": [
    {
     "name": "stderr",
     "output_type": "stream",
     "text": [
      "c:\\Users\\diego\\Anaconda3\\lib\\site-packages\\seaborn\\distributions.py:2619: FutureWarning: `distplot` is a deprecated function and will be removed in a future version. Please adapt your code to use either `displot` (a figure-level function with similar flexibility) or `histplot` (an axes-level function for histograms).\n",
      "  warnings.warn(msg, FutureWarning)\n"
     ]
    },
    {
     "data": {
      "text/plain": [
       "<AxesSubplot:xlabel='annual_income_WOE', ylabel='Density'>"
      ]
     },
     "execution_count": 29,
     "metadata": {},
     "output_type": "execute_result"
    },
    {
     "data": {
      "image/png": "[encoded data removed]",
      "text/plain": [
       "<Figure size 432x288 with 1 Axes>"
      ]
     },
     "metadata": {
      "needs_background": "light"
     },
     "output_type": "display_data"
    }
   ],
   "source": [
    "sns.distplot(data_set['annual_income_WOE'])"
   ]
  },
  {
   "cell_type": "code",
   "execution_count": 30,
   "metadata": {},
   "outputs": [
    {
     "name": "stderr",
     "output_type": "stream",
     "text": [
      "c:\\Users\\diego\\Anaconda3\\lib\\site-packages\\seaborn\\distributions.py:2619: FutureWarning: `distplot` is a deprecated function and will be removed in a future version. Please adapt your code to use either `displot` (a figure-level function with similar flexibility) or `histplot` (an axes-level function for histograms).\n",
      "  warnings.warn(msg, FutureWarning)\n"
     ]
    },
    {
     "data": {
      "text/plain": [
       "<AxesSubplot:xlabel='annual_income', ylabel='Density'>"
      ]
     },
     "execution_count": 30,
     "metadata": {},
     "output_type": "execute_result"
    },
    {
     "data": {
      "image/png": "[encoded data removed]",
      "text/plain": [
       "<Figure size 432x288 with 1 Axes>"
      ]
     },
     "metadata": {
      "needs_background": "light"
     },
     "output_type": "display_data"
    }
   ],
   "source": [
    "sns.distplot(data_set['annual_income'])"
   ]
  },
  {
   "cell_type": "code",
   "execution_count": 22,
   "metadata": {},
   "outputs": [
    {
     "name": "stdout",
     "output_type": "stream",
     "text": [
      "[INFO] creating woe binning ...\n"
     ]
    },
    {
     "data": {
      "text/plain": [
       "{'annual_income':         variable                bin  count  count_distr   good  bad  badprob  \\\n",
       " 0  annual_income     [-inf,36000.0)   1329       0.0513   1010  319   0.2400   \n",
       " 1  annual_income  [36000.0,46000.0)   2517       0.0972   2275  242   0.0961   \n",
       " 2  annual_income  [46000.0,60000.0)   6859       0.2648   6521  338   0.0493   \n",
       " 3  annual_income      [60000.0,inf)  15201       0.5868  14738  463   0.0305   \n",
       " \n",
       "       woe  bin_iv  total_iv   breaks  is_special_values  \n",
       " 0  1.7390  0.3357    0.5405  36000.0              False  \n",
       " 1  0.6507  0.0553    0.5405  46000.0              False  \n",
       " 2 -0.0682  0.0012    0.5405  60000.0              False  \n",
       " 3 -0.5689  0.1482    0.5405      inf              False  }"
      ]
     },
     "execution_count": 22,
     "metadata": {},
     "output_type": "execute_result"
    }
   ],
   "source": [
    "# Método - II\n",
    "bins = sc.woebin(data_set[['annual_income','default_event']], y=\"default_event\")\n",
    "bins"
   ]
  },
  {
   "cell_type": "code",
   "execution_count": 39,
   "metadata": {},
   "outputs": [
    {
     "name": "stdout",
     "output_type": "stream",
     "text": [
      "[INFO] creating woe binning ...\n"
     ]
    }
   ],
   "source": [
    "# breaks_adj = sc.woebin_adj(dt_s, \"creditability\", bins) \n",
    "# # or specify breaks manually\n",
    "breaks_adj = {\n",
    "    'annual_income': [36010, 42000, 50000, 60000],\n",
    "    'other.debtors.or.guarantors': [\"none\", \"co-applicant%,%guarantor\"]\n",
    "}\n",
    "bins_adj = sc.woebin(data_set[['annual_income','default_event']], y=\"default_event\", breaks_list=breaks_adj)"
   ]
  },
  {
   "cell_type": "code",
   "execution_count": 40,
   "metadata": {},
   "outputs": [
    {
     "data": {
      "text/plain": [
       "{'annual_income':         variable                bin  count  count_distr   good  bad  badprob  \\\n",
       " 0  annual_income     [-inf,36010.0)   1330       0.0513   1011  319   0.2398   \n",
       " 1  annual_income  [36010.0,42000.0)   1264       0.0488   1125  139   0.1100   \n",
       " 2  annual_income  [42000.0,50000.0)   2865       0.1106   2668  197   0.0688   \n",
       " 3  annual_income  [50000.0,60000.0)   5246       0.2025   5002  244   0.0465   \n",
       " 4  annual_income      [60000.0,inf)  15201       0.5868  14738  463   0.0305   \n",
       " \n",
       "       woe  bin_iv  total_iv   breaks  is_special_values  \n",
       " 0  1.7380  0.3355    0.5421  36010.0              False  \n",
       " 1  0.8004  0.0450    0.5421  42000.0              False  \n",
       " 2  0.2856  0.0103    0.5421  50000.0              False  \n",
       " 3 -0.1289  0.0032    0.5421  60000.0              False  \n",
       " 4 -0.5689  0.1482    0.5421      inf              False  }"
      ]
     },
     "execution_count": 40,
     "metadata": {},
     "output_type": "execute_result"
    }
   ],
   "source": [
    "bins_adj"
   ]
  },
  {
   "cell_type": "code",
   "execution_count": 41,
   "metadata": {},
   "outputs": [
    {
     "name": "stdout",
     "output_type": "stream",
     "text": [
      "[INFO] converting into woe values ...\n"
     ]
    }
   ],
   "source": [
    "# converting train and test into woe values\n",
    "data_set_woe = sc.woebin_ply(data_set, bins_adj)"
   ]
  },
  {
   "cell_type": "code",
   "execution_count": 42,
   "metadata": {},
   "outputs": [
    {
     "data": {
      "text/html": [
       "<div>\n",
       "<style scoped>\n",
       "    .dataframe tbody tr th:only-of-type {\n",
       "        vertical-align: middle;\n",
       "    }\n",
       "\n",
       "    .dataframe tbody tr th {\n",
       "        vertical-align: top;\n",
       "    }\n",
       "\n",
       "    .dataframe thead th {\n",
       "        text-align: right;\n",
       "    }\n",
       "</style>\n",
       "<table border=\"1\" class=\"dataframe\">\n",
       "  <thead>\n",
       "    <tr style=\"text-align: right;\">\n",
       "      <th></th>\n",
       "      <th>default_event</th>\n",
       "      <th>annual_income_WOE</th>\n",
       "      <th>annual_income_binned</th>\n",
       "      <th>annual_income_woe</th>\n",
       "    </tr>\n",
       "  </thead>\n",
       "  <tbody>\n",
       "    <tr>\n",
       "      <th>0</th>\n",
       "      <td>0</td>\n",
       "      <td>0.5249</td>\n",
       "      <td>3.0000</td>\n",
       "      <td>-0.5689</td>\n",
       "    </tr>\n",
       "    <tr>\n",
       "      <th>1</th>\n",
       "      <td>0</td>\n",
       "      <td>0.6277</td>\n",
       "      <td>4.0000</td>\n",
       "      <td>-0.5689</td>\n",
       "    </tr>\n",
       "    <tr>\n",
       "      <th>2</th>\n",
       "      <td>1</td>\n",
       "      <td>2.3532</td>\n",
       "      <td>0.0000</td>\n",
       "      <td>1.7380</td>\n",
       "    </tr>\n",
       "    <tr>\n",
       "      <th>3</th>\n",
       "      <td>0</td>\n",
       "      <td>0.8737</td>\n",
       "      <td>1.0000</td>\n",
       "      <td>-0.1289</td>\n",
       "    </tr>\n",
       "    <tr>\n",
       "      <th>4</th>\n",
       "      <td>0</td>\n",
       "      <td>0.5249</td>\n",
       "      <td>3.0000</td>\n",
       "      <td>-0.5689</td>\n",
       "    </tr>\n",
       "    <tr>\n",
       "      <th>...</th>\n",
       "      <td>...</td>\n",
       "      <td>...</td>\n",
       "      <td>...</td>\n",
       "      <td>...</td>\n",
       "    </tr>\n",
       "    <tr>\n",
       "      <th>25901</th>\n",
       "      <td>0</td>\n",
       "      <td>0.8737</td>\n",
       "      <td>1.0000</td>\n",
       "      <td>-0.1289</td>\n",
       "    </tr>\n",
       "    <tr>\n",
       "      <th>25902</th>\n",
       "      <td>0</td>\n",
       "      <td>0.6277</td>\n",
       "      <td>4.0000</td>\n",
       "      <td>-0.5689</td>\n",
       "    </tr>\n",
       "    <tr>\n",
       "      <th>25903</th>\n",
       "      <td>0</td>\n",
       "      <td>0.6206</td>\n",
       "      <td>2.0000</td>\n",
       "      <td>-0.5689</td>\n",
       "    </tr>\n",
       "    <tr>\n",
       "      <th>25904</th>\n",
       "      <td>0</td>\n",
       "      <td>2.3532</td>\n",
       "      <td>0.0000</td>\n",
       "      <td>0.8004</td>\n",
       "    </tr>\n",
       "    <tr>\n",
       "      <th>25905</th>\n",
       "      <td>0</td>\n",
       "      <td>2.3532</td>\n",
       "      <td>0.0000</td>\n",
       "      <td>0.2856</td>\n",
       "    </tr>\n",
       "  </tbody>\n",
       "</table>\n",
       "<p>25906 rows × 4 columns</p>\n",
       "</div>"
      ],
      "text/plain": [
       "       default_event  annual_income_WOE  annual_income_binned  \\\n",
       "0                  0             0.5249                3.0000   \n",
       "1                  0             0.6277                4.0000   \n",
       "2                  1             2.3532                0.0000   \n",
       "3                  0             0.8737                1.0000   \n",
       "4                  0             0.5249                3.0000   \n",
       "...              ...                ...                   ...   \n",
       "25901              0             0.8737                1.0000   \n",
       "25902              0             0.6277                4.0000   \n",
       "25903              0             0.6206                2.0000   \n",
       "25904              0             2.3532                0.0000   \n",
       "25905              0             2.3532                0.0000   \n",
       "\n",
       "       annual_income_woe  \n",
       "0                -0.5689  \n",
       "1                -0.5689  \n",
       "2                 1.7380  \n",
       "3                -0.1289  \n",
       "4                -0.5689  \n",
       "...                  ...  \n",
       "25901            -0.1289  \n",
       "25902            -0.5689  \n",
       "25903            -0.5689  \n",
       "25904             0.8004  \n",
       "25905             0.2856  \n",
       "\n",
       "[25906 rows x 4 columns]"
      ]
     },
     "execution_count": 42,
     "metadata": {},
     "output_type": "execute_result"
    }
   ],
   "source": [
    "data_set_woe"
   ]
  },
  {
   "cell_type": "code",
   "execution_count": null,
   "metadata": {},
   "outputs": [],
   "source": []
  }
 ],
 "metadata": {
  "kernelspec": {
   "display_name": "Conda_Env_RF",
   "language": "python",
   "name": "python3"
  },
  "language_info": {
   "codemirror_mode": {
    "name": "ipython",
    "version": 3
   },
   "file_extension": ".py",
   "mimetype": "text/x-python",
   "name": "python",
   "nbconvert_exporter": "python",
   "pygments_lexer": "ipython3",
   "version": "3.9.12"
  },
  "orig_nbformat": 4
 },
 "nbformat": 4,
 "nbformat_minor": 2
}
